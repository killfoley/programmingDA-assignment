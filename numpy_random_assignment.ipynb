{
 "cells": [
  {
   "cell_type": "markdown",
   "metadata": {},
   "source": [
    "![Numpy Logo](Numpy_logo.jpg)\n",
    "\n",
    "# Assignment exploring numpy.random package in python\n",
    "\n",
    "## Problem statement\n",
    "1. Explain the overall purpose of the package.\n",
    "2. Explain the use of the “Simple random data” and “Permutations” functions.\n",
    "3. Explain the use and purpose of at least five “Distributions” functions.\n",
    "4. Explain the use of seeds in generating pseudorandom numbers.\n",
    "\n",
    "## Numpy explained\n",
    "NumPy (Numerical Python) is an open source Python library considered as the fundamental package for scientific computing in Python. It is the universal standard Python library for working with numerical data in almost every field of science and engineering. The NumPy API is used extensively in many other Python data science packages such as Pandas, SciPy, Matplotlib, scikit-learn, scikit-image and many other data science and scientific Python packages. The NumPy package contains multidimensional array and matrix data structures, and enables fast operations on arrays, including mathematical, logical, shape manipulation, sorting, basic linear algebra, statistical operations and random simulation (and much more). [1,2]\n",
    "\n",
    "## 1. Numpy.random explained\n",
    "#### What is a random number?\n",
    "\"*Random - made, done, or happening without method or conscious decision*\" (definition - Oxford English Dictionary). A Random number does NOT mean it has to be a different number every time. Random means something that can not be predicted logically. [3]  \n",
    "  \n",
    "The ability to generate random numbers is an important part of the configuration and evaluation of many numerical and machine learning algorithms. From shuffling datasets randomly or splitting data into random sub-sets, being able to generate random numbers (actually, repeatable pseudo-random numbers) is an essential part of data science. [2]\n",
    "#### How it works  \n",
    "Numpy’s random number function produces pseudo random numbers using combinations of a BitGenerator to create sequences and a Generator to use those sequences to sample from different statistical distributions:\n",
    "  \n",
    "* **BitGenerators:** Objects that generate random numbers. These are typically unsigned integer words filled with sequences of either 32 or 64 random bits.\n",
    "  \n",
    "* **Generators:** Objects that transform sequences of random bits from a BitGenerator into sequences of numbers that follow a specific probability distribution (such as uniform, Normal or Binomial) within a specified interval. [4]\n",
    "  \n",
    "For the purpose of this investigation the Numpy random module can be split into four parts\n",
    "* Simple Random Data\n",
    "* Permutations\n",
    "* Distributions\n",
    "* Random Generator\n",
    "***\n",
    "##### Code"
   ]
  },
  {
   "cell_type": "code",
   "execution_count": 1,
   "metadata": {},
   "outputs": [
    {
     "data": {
      "text/plain": [
       "'1.19.2'"
      ]
     },
     "execution_count": 1,
     "metadata": {},
     "output_type": "execute_result"
    }
   ],
   "source": [
    "# First import numpy package. \n",
    "import numpy as np\n",
    "# Next check the version is V 1.19\n",
    "np.version.version"
   ]
  },
  {
   "cell_type": "code",
   "execution_count": 2,
   "metadata": {},
   "outputs": [],
   "source": [
    "# Next we import matplotlib and seaborn for data visualtion and charts\n",
    "import matplotlib.pyplot as plt \n",
    "import seaborn as sns\n",
    "# call \"magic function\" for matplotlib to show charts in jupyter notebook\n",
    "# Ref - https://stackoverflow.com/questions/43027980/purpose-of-matplotlib-inline\n",
    "%matplotlib inline"
   ]
  },
  {
   "cell_type": "markdown",
   "metadata": {},
   "source": [
    "## 2.1 \"Simple random data\" functions explained\n",
    "Referencing the Numpy random documentation [5] the following are the available **simple random data** functions\n",
    "\n",
    "| Numpy Function | Description |\n",
    "|:---------------|:------------|\n",
    "| **integers**(low[, high, size, dtype, endpoint]) | Return random integers from low (inclusive) to high (exclusive), or if endpoint=True, low (inclusive) to high (inclusive)|\n",
    "| **random**([size, dtype, out]) | Return random floats in the half-open interval [0.0, 1.0]|\n",
    "| **choice**(a[, size, replace, p, axis, shuffle]) | Generates a random sample from a given 1-D array|\n",
    "| **bytes**(length) | Return random bytes |  \n",
    "  \n",
    "***\n",
    "\n",
    "#### _Integers( )_ function\n",
    "From the table above Return random integers from low (inclusive) to high (exclusive)"
   ]
  },
  {
   "cell_type": "code",
   "execution_count": 3,
   "metadata": {},
   "outputs": [
    {
     "data": {
      "text/plain": [
       "array([0, 1, 1, 0, 0, 1, 0, 0, 0, 0])"
      ]
     },
     "execution_count": 3,
     "metadata": {},
     "output_type": "execute_result"
    }
   ],
   "source": [
    "# start using the random number generator (rng) integers\n",
    "rng = np.random.default_rng()\n",
    "rng.integers(2, size=10)"
   ]
  },
  {
   "cell_type": "markdown",
   "metadata": {},
   "source": [
    "From consulting the documentation it is noted that the above function produces a 1-D array with 10 entries returning random numbers between 0 (inclusive) and 2 (exclusive). [6]"
   ]
  },
  {
   "cell_type": "code",
   "execution_count": 4,
   "metadata": {},
   "outputs": [
    {
     "data": {
      "text/plain": [
       "array([[6, 6, 5, 4],\n",
       "       [3, 7, 7, 9]])"
      ]
     },
     "execution_count": 4,
     "metadata": {},
     "output_type": "execute_result"
    }
   ],
   "source": [
    "rng.integers(3,10, size=(2,4)) # integers between 3 (incl) and 10 (excl) size 2 rows and 4 columns"
   ]
  },
  {
   "cell_type": "markdown",
   "metadata": {},
   "source": [
    "***\n",
    "#### _Random( )_ function\n",
    "From the description in the table above \"Return random floats in the half-open interval [0.0, 1.0]\" [7]"
   ]
  },
  {
   "cell_type": "code",
   "execution_count": 5,
   "metadata": {},
   "outputs": [
    {
     "data": {
      "text/plain": [
       "0.27074075300209755"
      ]
     },
     "execution_count": 5,
     "metadata": {},
     "output_type": "execute_result"
    }
   ],
   "source": [
    "# Use random function to generate a random number between 0 (incl) and 1 (excl)\n",
    "rng = np.random.default_rng()\n",
    "rng.random()"
   ]
  },
  {
   "cell_type": "code",
   "execution_count": 6,
   "metadata": {},
   "outputs": [
    {
     "data": {
      "text/plain": [
       "array([[0.78806246, 0.32987917],\n",
       "       [0.18476972, 0.07990075],\n",
       "       [0.11406334, 0.19218583]])"
      ]
     },
     "execution_count": 6,
     "metadata": {},
     "output_type": "execute_result"
    }
   ],
   "source": [
    "# Create a 3 x 2 array of random floating point numbers\n",
    "rng = np.random.default_rng()\n",
    "rng.random((3,2)) # note double brackets required"
   ]
  },
  {
   "cell_type": "code",
   "execution_count": 7,
   "metadata": {},
   "outputs": [
    {
     "data": {
      "image/png": "[encoded data removed]",
      "text/plain": [
       "<Figure size 720x360 with 2 Axes>"
      ]
     },
     "metadata": {
      "needs_background": "light"
     },
     "output_type": "display_data"
    }
   ],
   "source": [
    "#Distribution for 10000 random numbers generated by the integers and random functions in NumPy’s random moduleb\n",
    "\n",
    "plt.figure(figsize=(10, 5))\n",
    "\n",
    "plt.subplot(1, 2, 1)\n",
    "plt.title(\"np.random.integers\", fontsize=20)\n",
    "__randint__ = rng.integers(100, size=10000)\n",
    "plt.hist(__randint__, color=\"blue\")\n",
    "\n",
    "plt.subplot(1, 2, 2)\n",
    "plt.title(\"np.random.random\", fontsize=20)\n",
    "__random__ = rng.random(10000)\n",
    "plt.hist(__random__, color=\"orange\")\n",
    "\n",
    "plt.show()\n"
   ]
  },
  {
   "cell_type": "markdown",
   "metadata": {},
   "source": [
    "We can see from the above histograms that both the integers, and random functions are uniform distributions"
   ]
  },
  {
   "cell_type": "markdown",
   "metadata": {},
   "source": [
    "***\n",
    "#### _Choice( )_ function\n",
    "Generates a random sample from a given 1-D array  \n",
    "  \n",
    "Parameters:  \n",
    "  \n",
    "a: {array_like, int}\n",
    "   If an ndarray, a random sample is generated from its elements. If an int, the random sample is generated from np.arange(a).\n",
    "\n",
    "size : Output shape {int, tuple[int]}, optional\n",
    "\n",
    "replace : bool, optional - Whether the sample is with or without replacement\n",
    "\n",
    "p : 1-D array_like, optional - the probabilities associated with each entry in a. If not given the sample assumes a uniform distribution over all entries in a.\n",
    "\n",
    "axis : int, optional The axis along which the selection is performed. The default, 0, selects by row.\n",
    "\n",
    "shuffle : bool, optional - whether the sample is shuffled when sampling without replacement. Default is True, False provides a speedup. [8]"
   ]
  },
  {
   "cell_type": "code",
   "execution_count": 8,
   "metadata": {},
   "outputs": [
    {
     "data": {
      "text/plain": [
       "array([3, 0, 2, 4, 0, 1])"
      ]
     },
     "execution_count": 8,
     "metadata": {},
     "output_type": "execute_result"
    }
   ],
   "source": [
    "rng = np.random.default_rng()\n",
    "# Generate a uniform random sample from np.arange(6) of size 6\n",
    "rng.choice(6,6)"
   ]
  },
  {
   "cell_type": "code",
   "execution_count": 9,
   "metadata": {},
   "outputs": [
    {
     "data": {
      "text/plain": [
       "array([3, 2, 1, 4, 0])"
      ]
     },
     "execution_count": 9,
     "metadata": {},
     "output_type": "execute_result"
    }
   ],
   "source": [
    "# Generate a non-uniform random sample from np.arange(5) of size 10 without replacement (repetition):\n",
    "\n",
    "rng.choice(5, 5, replace=False, p=[0.1, 0.2, 0.2, 0.3, 0.2])"
   ]
  },
  {
   "cell_type": "markdown",
   "metadata": {},
   "source": [
    "***\n",
    "The function can also be used with any array not just integers. e.g."
   ]
  },
  {
   "cell_type": "code",
   "execution_count": 10,
   "metadata": {},
   "outputs": [
    {
     "data": {
      "text/plain": [
       "array(['Galway', 'Galway', 'Galway', 'Cork', 'Wicklow'], dtype='<U8')"
      ]
     },
     "execution_count": 10,
     "metadata": {},
     "output_type": "execute_result"
    }
   ],
   "source": [
    "counties = ['Wicklow', 'Dublin', 'Cork', 'Galway', 'Limerick']\n",
    "rng.choice(counties, 5, replace=True)"
   ]
  },
  {
   "cell_type": "markdown",
   "metadata": {},
   "source": [
    "***\n",
    "#### _bytes( )_ function\n",
    "Generates random bytes\n",
    "Parameters: \n",
    "length : int - Number of random bytes. [9]"
   ]
  },
  {
   "cell_type": "code",
   "execution_count": 11,
   "metadata": {},
   "outputs": [
    {
     "data": {
      "text/plain": [
       "b'\\x00\\xe5A[#q_\\x82[\\xa6\\xa26'"
      ]
     },
     "execution_count": 11,
     "metadata": {},
     "output_type": "execute_result"
    }
   ],
   "source": [
    "rng.bytes(12)"
   ]
  },
  {
   "cell_type": "markdown",
   "metadata": {},
   "source": [
    "***"
   ]
  },
  {
   "cell_type": "markdown",
   "metadata": {},
   "source": [
    "## 2.2 \"Permutations\" functions explained\n",
    "Permutation means changing the arrangement, especially the linear order, of array of items in Numpy.\n",
    "  \n",
    "| Numpy Function | Description |  \n",
    "|:---------------|:------------|  \n",
    "| **shuffle**(x[, axis]) | Modify a sequence in-place by shuffling its contents. |  \n",
    "| **permutation**(x[, axis]) | Randomly permute a sequence, or return a permuted range. |  \n",
    "\n",
    "***\n",
    "**numpy.random.shuffle(x)** - *Modify a sequence in-place by shuffling its contents.* [10]"
   ]
  },
  {
   "cell_type": "code",
   "execution_count": 12,
   "metadata": {},
   "outputs": [
    {
     "data": {
      "text/plain": [
       "array([0, 1, 2, 3, 4, 5, 6, 7, 8, 9])"
      ]
     },
     "execution_count": 12,
     "metadata": {},
     "output_type": "execute_result"
    }
   ],
   "source": [
    "# create a 1-D array\n",
    "rng = np.random.default_rng()\n",
    "arr = np.arange(10)\n",
    "arr"
   ]
  },
  {
   "cell_type": "code",
   "execution_count": 13,
   "metadata": {},
   "outputs": [
    {
     "data": {
      "text/plain": [
       "array([9, 8, 3, 7, 5, 1, 2, 6, 0, 4])"
      ]
     },
     "execution_count": 13,
     "metadata": {},
     "output_type": "execute_result"
    }
   ],
   "source": [
    "# pass arr into shuffle function\n",
    "rng.shuffle(arr)\n",
    "arr"
   ]
  },
  {
   "cell_type": "markdown",
   "metadata": {},
   "source": [
    "As we can see above the shuffle function has modified the sequence of numbers in the array and overwritten \"arr\"\n",
    "***\n",
    "shuffle( ) has an optional axis parameter which the input is shuffled on. Default is 0. It is only supported on ndarray objects. Let's explore"
   ]
  },
  {
   "cell_type": "code",
   "execution_count": 14,
   "metadata": {},
   "outputs": [
    {
     "data": {
      "text/plain": [
       "array([[0, 1, 2],\n",
       "       [3, 4, 5],\n",
       "       [6, 7, 8]])"
      ]
     },
     "execution_count": 14,
     "metadata": {},
     "output_type": "execute_result"
    }
   ],
   "source": [
    "# create a 2d array\n",
    "arr2d = np.arange(9).reshape((3, 3))\n",
    "arr2d"
   ]
  },
  {
   "cell_type": "code",
   "execution_count": 15,
   "metadata": {},
   "outputs": [
    {
     "data": {
      "text/plain": [
       "array([[6, 7, 8],\n",
       "       [3, 4, 5],\n",
       "       [0, 1, 2]])"
      ]
     },
     "execution_count": 15,
     "metadata": {},
     "output_type": "execute_result"
    }
   ],
   "source": [
    "# shuffle arr2d with axis = 0\n",
    "rng.shuffle(arr2d, axis=0)\n",
    "arr2d"
   ]
  },
  {
   "cell_type": "markdown",
   "metadata": {},
   "source": [
    "above we can see with axis=0, only the rows were interchanged."
   ]
  },
  {
   "cell_type": "code",
   "execution_count": 16,
   "metadata": {},
   "outputs": [
    {
     "data": {
      "text/plain": [
       "array([[7, 6, 8],\n",
       "       [4, 3, 5],\n",
       "       [1, 0, 2]])"
      ]
     },
     "execution_count": 16,
     "metadata": {},
     "output_type": "execute_result"
    }
   ],
   "source": [
    "# Shuffle again with axis = 1\n",
    "rng.shuffle(arr2d, axis=1)\n",
    "arr2d"
   ]
  },
  {
   "cell_type": "markdown",
   "metadata": {},
   "source": [
    "above we can see with axis=1 the columns were interchanged.\n",
    "***\n",
    "**numpy.random.permutation(x)** - *Randomly permute a sequence, or return a permuted range.* \n",
    "If x is an integer, the function will randomly permute np.arange(x). If x is an array, numpy makes a copy and shuffles the elements randomly. [11]"
   ]
  },
  {
   "cell_type": "code",
   "execution_count": 17,
   "metadata": {},
   "outputs": [
    {
     "data": {
      "text/plain": [
       "array([6, 5, 7, 1, 2, 3, 9, 8, 4, 0])"
      ]
     },
     "execution_count": 17,
     "metadata": {},
     "output_type": "execute_result"
    }
   ],
   "source": [
    "rng.permutation(10)"
   ]
  },
  {
   "cell_type": "markdown",
   "metadata": {},
   "source": [
    "***\n",
    "We can also input an array"
   ]
  },
  {
   "cell_type": "code",
   "execution_count": 19,
   "metadata": {},
   "outputs": [
    {
     "data": {
      "text/plain": [
       "array([12,  5,  1,  3,  7, 10])"
      ]
     },
     "execution_count": 19,
     "metadata": {},
     "output_type": "execute_result"
    }
   ],
   "source": [
    "rng.permutation([1, 3, 5, 7, 10, 12])"
   ]
  },
  {
   "cell_type": "markdown",
   "metadata": {},
   "source": [
    "***\n",
    "We can demonstrate with an array of string values"
   ]
  },
  {
   "cell_type": "code",
   "execution_count": 21,
   "metadata": {},
   "outputs": [
    {
     "data": {
      "text/plain": [
       "array(['Wicklow', 'Limerick', 'Galway', 'Tipperary', 'Dublin'],\n",
       "      dtype='<U9')"
      ]
     },
     "execution_count": 21,
     "metadata": {},
     "output_type": "execute_result"
    }
   ],
   "source": [
    "rng.permutation([\"Wicklow\", \"Dublin\", \"Galway\", \"Limerick\", \"Tipperary\"])"
   ]
  },
  {
   "cell_type": "markdown",
   "metadata": {},
   "source": [
    "***\n",
    "np.random.permutation also accepts an optional axis paramter"
   ]
  },
  {
   "cell_type": "code",
   "execution_count": 22,
   "metadata": {},
   "outputs": [
    {
     "data": {
      "text/plain": [
       "array([[3, 4, 5],\n",
       "       [6, 7, 8],\n",
       "       [0, 1, 2]])"
      ]
     },
     "execution_count": 22,
     "metadata": {},
     "output_type": "execute_result"
    }
   ],
   "source": [
    "# Create a 2d arrray shuffle with default axis=0\n",
    "arr = np.arange(9).reshape((3, 3))\n",
    "rng.permutation(arr)"
   ]
  },
  {
   "cell_type": "code",
   "execution_count": 23,
   "metadata": {},
   "outputs": [
    {
     "data": {
      "text/plain": [
       "array([[2, 0, 1],\n",
       "       [5, 3, 4],\n",
       "       [8, 6, 7]])"
      ]
     },
     "execution_count": 23,
     "metadata": {},
     "output_type": "execute_result"
    }
   ],
   "source": [
    "# shuffle with axis=1\n",
    "rng.permutation(arr, axis=1)"
   ]
  },
  {
   "cell_type": "markdown",
   "metadata": {},
   "source": [
    "***\n",
    "## 3. Distributions - functions\n"
   ]
  },
  {
   "cell_type": "markdown",
   "metadata": {},
   "source": [
    "### References\n",
    "[1] What is Numpy; https://numpy.org/doc/stable/user/whatisnumpy.html#whatisnumpy  \n",
    "[2] NumPy: the absolute basics for beginners; https://numpy.org/doc/stable/user/absolute_beginners.html#generating-random-numbers  \n",
    "[3] W3schools.com; https://www.w3schools.com/python/numpy_random.asp  \n",
    "[4] random sampling (numpy.random); https://numpy.org/doc/stable/reference/random/index.html  \n",
    "[5] Numpy Random Generator; https://numpy.org/doc/stable/reference/random/generator.html  \n",
    "[6] np.random.integers; https://numpy.org/doc/stable/reference/random/generated/numpy.random.Generator.integers.html  \n",
    "[7] np.random.random; https://numpy.org/doc/stable/reference/random/generated/numpy.random.Generator.random.html  \n",
    "[8] np.random.choice; https://numpy.org/doc/stable/reference/random/generated/numpy.random.Generator.choice.html  \n",
    "[9] np.random.bytes; https://numpy.org/doc/stable/reference/random/generated/numpy.random.Generator.bytes.html  \n",
    "[10] np.random.shuffle; https://numpy.org/doc/stable/reference/random/generated/numpy.random.Generator.shuffle.html  \n",
    "[11] np.random.permutation; https://numpy.org/doc/stable/reference/random/generated/numpy.random.Generator.permutation.html"
   ]
  }
 ],
 "metadata": {
  "kernelspec": {
   "display_name": "Python 3",
   "language": "python",
   "name": "python3"
  },
  "language_info": {
   "codemirror_mode": {
    "name": "ipython",
    "version": 3
   },
   "file_extension": ".py",
   "mimetype": "text/x-python",
   "name": "python",
   "nbconvert_exporter": "python",
   "pygments_lexer": "ipython3",
   "version": "3.8.5"
  }
 },
 "nbformat": 4,
 "nbformat_minor": 4
}
