{
 "cells": [
  {
   "cell_type": "markdown",
   "metadata": {},
   "source": [
    "![Numpy Logo](Numpy_logo.jpg)\n",
    "\n",
    "## Programming for Data Analysis 2020 - 52465\n",
    "### Killian Foley\n",
    "#### November 2020\n",
    "\n",
    "# Assignment exploring numpy.random package in python\n",
    "\n",
    "## Problem statement\n",
    "1. Explain the overall purpose of the package.\n",
    "2. Explain the use of the “Simple random data” and “Permutations” functions.\n",
    "3. Explain the use and purpose of at least five “Distributions” functions.\n",
    "4. Explain the use of seeds in generating pseudorandom numbers.\n",
    "\n",
    "## Numpy explained\n",
    "NumPy (Numerical Python) is an open source Python library considered as the fundamental package for scientific computing in Python. It is the universal standard Python library for working with numerical data in almost every field of science and engineering. The NumPy API is used extensively in many other Python data science packages such as Pandas, SciPy, Matplotlib, scikit-learn, scikit-image and many other data science and scientific Python packages. The NumPy package contains multidimensional array and matrix data structures, and enables fast operations on arrays, including mathematical, logical, shape manipulation, sorting, basic linear algebra, statistical operations and random simulation (and much more). [1,2]\n",
    "\n",
    "## 1. Numpy.random explained\n",
    "#### What is a random number?\n",
    "\"*Random - made, done, or happening without method or conscious decision*\" (definition - Oxford English Dictionary). A Random number does NOT mean it has to be a different number every time. Random means something that can not be predicted logically. [3]  \n",
    "  \n",
    "The ability to generate random numbers is an important part of the configuration and evaluation of many numerical and machine learning algorithms. From shuffling datasets randomly or splitting data into random sub-sets, being able to generate random numbers (actually, repeatable pseudo-random numbers) is an essential part of data science. [2]\n",
    "#### How it works  \n",
    "Numpy’s random number function produces pseudo random numbers using combinations of a BitGenerator to create sequences and a Generator to use those sequences to sample from different statistical distributions:\n",
    "  \n",
    "* **BitGenerators:** Objects that generate random numbers. These are typically unsigned integer words filled with sequences of either 32 or 64 random bits.\n",
    "  \n",
    "* **Generators:** Objects that transform sequences of random bits from a BitGenerator into sequences of numbers that follow a specific probability distribution (such as uniform, Normal or Binomial) within a specified interval. [4]\n",
    "  \n",
    "For the purpose of this investigation the Numpy random module can be split into four parts\n",
    "* Simple Random Data\n",
    "* Permutations\n",
    "* Distributions\n",
    "* Random Generator\n",
    "***\n",
    "##### Code"
   ]
  },
  {
   "cell_type": "code",
   "execution_count": 1,
   "metadata": {
    "scrolled": true
   },
   "outputs": [
    {
     "data": {
      "text/plain": [
       "'1.19.2'"
      ]
     },
     "execution_count": 1,
     "metadata": {},
     "output_type": "execute_result"
    }
   ],
   "source": [
    "# First import numpy package. \n",
    "import numpy as np\n",
    "# Next check the version is V 1.19\n",
    "np.version.version"
   ]
  },
  {
   "cell_type": "code",
   "execution_count": 2,
   "metadata": {
    "scrolled": true
   },
   "outputs": [],
   "source": [
    "# Next we import matplotlib and seaborn for data visualtion and charts\n",
    "import matplotlib.pyplot as plt \n",
    "import seaborn as sns\n",
    "# call \"magic function\" for matplotlib to show charts in jupyter notebook\n",
    "# Ref - https://stackoverflow.com/questions/43027980/purpose-of-matplotlib-inline\n",
    "%matplotlib inline"
   ]
  },
  {
   "cell_type": "markdown",
   "metadata": {},
   "source": [
    "## 2.1 \"Simple random data\" functions explained\n",
    "Referencing the Numpy random documentation [5] the following are the available **simple random data** functions\n",
    "\n",
    "| Numpy Function | Description |\n",
    "|:---------------|:------------|\n",
    "| **integers**(low[, high, size, dtype, endpoint]) | Return random integers from low (inclusive) to high (exclusive), or if endpoint=True, low (inclusive) to high (inclusive)|\n",
    "| **random**([size, dtype, out]) | Return random floats in the half-open interval [0.0, 1.0]|\n",
    "| **choice**(a[, size, replace, p, axis, shuffle]) | Generates a random sample from a given 1-D array|\n",
    "| **bytes**(length) | Return random bytes |  \n",
    "  \n",
    "***\n",
    "\n",
    "#### _Integers( )_ function\n",
    "From the table above the function returns random integers from low (inclusive) to high (exclusive)"
   ]
  },
  {
   "cell_type": "code",
   "execution_count": 3,
   "metadata": {
    "scrolled": true
   },
   "outputs": [
    {
     "data": {
      "text/plain": [
       "array([1, 0, 1, 1, 0, 0, 0, 1, 0, 1])"
      ]
     },
     "execution_count": 3,
     "metadata": {},
     "output_type": "execute_result"
    }
   ],
   "source": [
    "# start using the random number generator (rng) integers\n",
    "rng = np.random.default_rng()\n",
    "rng.integers(2, size=10)"
   ]
  },
  {
   "cell_type": "markdown",
   "metadata": {},
   "source": [
    "From consulting the documentation it is noted that the above function produces a 1-D array with 10 entries returning random numbers between 0 (inclusive) and 2 (exclusive). [6]"
   ]
  },
  {
   "cell_type": "code",
   "execution_count": 4,
   "metadata": {
    "scrolled": true
   },
   "outputs": [
    {
     "data": {
      "text/plain": [
       "array([[5, 8, 5, 8],\n",
       "       [6, 5, 9, 6]])"
      ]
     },
     "execution_count": 4,
     "metadata": {},
     "output_type": "execute_result"
    }
   ],
   "source": [
    "rng.integers(3,10, size=(2,4)) # integers between 3 (incl) and 10 (excl) size 2 rows and 4 columns"
   ]
  },
  {
   "cell_type": "markdown",
   "metadata": {},
   "source": [
    "***\n",
    "#### _Random( )_ function\n",
    "From the description in the table above this function returns random floats in the half-open interval [0.0, 1.0]. [7]"
   ]
  },
  {
   "cell_type": "code",
   "execution_count": 5,
   "metadata": {
    "scrolled": true
   },
   "outputs": [
    {
     "data": {
      "text/plain": [
       "0.9969305896984647"
      ]
     },
     "execution_count": 5,
     "metadata": {},
     "output_type": "execute_result"
    }
   ],
   "source": [
    "# Use random function to generate a random number between 0 (incl) and 1 (excl)\n",
    "rng = np.random.default_rng()\n",
    "rng.random()"
   ]
  },
  {
   "cell_type": "code",
   "execution_count": 6,
   "metadata": {
    "scrolled": true
   },
   "outputs": [
    {
     "data": {
      "text/plain": [
       "array([[0.66693442, 0.00723548],\n",
       "       [0.18157589, 0.52793916],\n",
       "       [0.26387566, 0.98093873]])"
      ]
     },
     "execution_count": 6,
     "metadata": {},
     "output_type": "execute_result"
    }
   ],
   "source": [
    "# Create a 3 x 2 array of random floating point numbers\n",
    "rng = np.random.default_rng()\n",
    "rng.random((3,2)) # note double brackets required"
   ]
  },
  {
   "cell_type": "code",
   "execution_count": 7,
   "metadata": {
    "scrolled": true
   },
   "outputs": [
    {
     "data": {
      "image/png": "[encoded data removed]",
      "text/plain": [
       "<Figure size 720x360 with 2 Axes>"
      ]
     },
     "metadata": {
      "needs_background": "light"
     },
     "output_type": "display_data"
    }
   ],
   "source": [
    "#Distribution for 10000 random numbers generated by the integers and random functions in NumPy’s random moduleb\n",
    "\n",
    "plt.figure(figsize=(10, 5))\n",
    "\n",
    "plt.subplot(1, 2, 1)\n",
    "plt.title(\"np.random.integers\", fontsize=20)\n",
    "__randint__ = rng.integers(100, size=10000)\n",
    "plt.hist(__randint__, color=\"blue\")\n",
    "\n",
    "plt.subplot(1, 2, 2)\n",
    "plt.title(\"np.random.random\", fontsize=20)\n",
    "__random__ = rng.random(10000)\n",
    "plt.hist(__random__, color=\"orange\")\n",
    "\n",
    "plt.show()\n"
   ]
  },
  {
   "cell_type": "markdown",
   "metadata": {},
   "source": [
    "We can see from the above histograms that both the np.random.integers, and np.random.random functions are uniform distributions"
   ]
  },
  {
   "cell_type": "markdown",
   "metadata": {},
   "source": [
    "***\n",
    "#### _Choice( )_ function\n",
    "Generates a random sample from a given 1-D array  \n",
    "  \n",
    "Parameters:  \n",
    "  \n",
    "a: {array_like, int}\n",
    "   If an ndarray, a random sample is generated from its elements. If an int, the random sample is generated from np.arange(a).\n",
    "\n",
    "size : Output shape {int, tuple[int]}, optional\n",
    "\n",
    "replace : bool, optional - Whether the sample is with or without replacement\n",
    "\n",
    "p : 1-D array_like, optional - the probabilities associated with each entry in a. If not given the sample assumes a uniform distribution over all entries in a.\n",
    "\n",
    "axis : int, optional The axis along which the selection is performed. The default, 0, selects by row.\n",
    "\n",
    "shuffle : bool, optional - whether the sample is shuffled when sampling without replacement. Default is True, False provides a speedup. [8]"
   ]
  },
  {
   "cell_type": "code",
   "execution_count": 8,
   "metadata": {
    "scrolled": true
   },
   "outputs": [
    {
     "data": {
      "text/plain": [
       "array([2, 5, 5, 4, 2, 1])"
      ]
     },
     "execution_count": 8,
     "metadata": {},
     "output_type": "execute_result"
    }
   ],
   "source": [
    "rng = np.random.default_rng()\n",
    "# Generate a uniform random sample from np.arange(6) of size 6\n",
    "rng.choice(6,6)"
   ]
  },
  {
   "cell_type": "code",
   "execution_count": 9,
   "metadata": {
    "scrolled": true
   },
   "outputs": [
    {
     "data": {
      "text/plain": [
       "array([0, 2, 1, 3, 4])"
      ]
     },
     "execution_count": 9,
     "metadata": {},
     "output_type": "execute_result"
    }
   ],
   "source": [
    "# Generate a non-uniform random sample from np.arange(5) of size 10 without replacement (repetition):\n",
    "\n",
    "rng.choice(5, 5, replace=False, p=[0.1, 0.2, 0.2, 0.3, 0.2])"
   ]
  },
  {
   "cell_type": "markdown",
   "metadata": {},
   "source": [
    "***\n",
    "The function can also be used with any array not just integers. e.g."
   ]
  },
  {
   "cell_type": "code",
   "execution_count": 10,
   "metadata": {
    "scrolled": true
   },
   "outputs": [
    {
     "data": {
      "text/plain": [
       "array(['Wicklow', 'Cork', 'Dublin', 'Cork', 'Dublin'], dtype='<U8')"
      ]
     },
     "execution_count": 10,
     "metadata": {},
     "output_type": "execute_result"
    }
   ],
   "source": [
    "counties = ['Wicklow', 'Dublin', 'Cork', 'Galway', 'Limerick']\n",
    "rng.choice(counties, 5, replace=True)"
   ]
  },
  {
   "cell_type": "markdown",
   "metadata": {},
   "source": [
    "***\n",
    "#### _bytes( )_ function\n",
    "Generates random bytes\n",
    "Parameters: \n",
    "length : int - Number of random bytes. [9]"
   ]
  },
  {
   "cell_type": "code",
   "execution_count": 11,
   "metadata": {
    "scrolled": true
   },
   "outputs": [
    {
     "data": {
      "text/plain": [
       "b'\\x9c4\\x0b\\x91\\xc7\\xf6[\\xc0h\\x1a\\xb3\\x92'"
      ]
     },
     "execution_count": 11,
     "metadata": {},
     "output_type": "execute_result"
    }
   ],
   "source": [
    "rng.bytes(12)"
   ]
  },
  {
   "cell_type": "markdown",
   "metadata": {},
   "source": [
    "***"
   ]
  },
  {
   "cell_type": "markdown",
   "metadata": {},
   "source": [
    "## 2.2 \"Permutations\" functions explained\n",
    "Permutation means changing the arrangement, especially the linear order, of array of items in Numpy.\n",
    "  \n",
    "| Numpy Function | Description |  \n",
    "|:---------------|:------------|  \n",
    "| **shuffle**(x[, axis]) | Modify a sequence in-place by shuffling its contents. |  \n",
    "| **permutation**(x[, axis]) | Randomly permute a sequence, or return a permuted range. |  \n",
    "\n",
    "***\n",
    "**numpy.random.shuffle(x)** - *Modify a sequence in-place by shuffling its contents.* [10]"
   ]
  },
  {
   "cell_type": "code",
   "execution_count": 12,
   "metadata": {
    "scrolled": true
   },
   "outputs": [
    {
     "data": {
      "text/plain": [
       "array([0, 1, 2, 3, 4, 5, 6, 7, 8, 9])"
      ]
     },
     "execution_count": 12,
     "metadata": {},
     "output_type": "execute_result"
    }
   ],
   "source": [
    "# create a 1-D array\n",
    "rng = np.random.default_rng()\n",
    "arr = np.arange(10)\n",
    "arr"
   ]
  },
  {
   "cell_type": "code",
   "execution_count": 13,
   "metadata": {
    "scrolled": true
   },
   "outputs": [
    {
     "data": {
      "text/plain": [
       "array([0, 2, 1, 8, 5, 7, 6, 4, 9, 3])"
      ]
     },
     "execution_count": 13,
     "metadata": {},
     "output_type": "execute_result"
    }
   ],
   "source": [
    "# pass arr into shuffle function\n",
    "rng.shuffle(arr)\n",
    "arr"
   ]
  },
  {
   "cell_type": "markdown",
   "metadata": {},
   "source": [
    "As we can see above the shuffle function has modified the sequence of numbers in the array and overwritten \"arr\"\n",
    "***\n",
    "shuffle( ) has an optional axis parameter which the input is shuffled on. Default is 0. It is only supported on ndarray objects. Let's explore"
   ]
  },
  {
   "cell_type": "code",
   "execution_count": 14,
   "metadata": {
    "scrolled": true
   },
   "outputs": [
    {
     "data": {
      "text/plain": [
       "array([[0, 1, 2],\n",
       "       [3, 4, 5],\n",
       "       [6, 7, 8]])"
      ]
     },
     "execution_count": 14,
     "metadata": {},
     "output_type": "execute_result"
    }
   ],
   "source": [
    "# create a 2d array\n",
    "arr2d = np.arange(9).reshape((3, 3))\n",
    "arr2d"
   ]
  },
  {
   "cell_type": "code",
   "execution_count": 15,
   "metadata": {
    "scrolled": true
   },
   "outputs": [
    {
     "data": {
      "text/plain": [
       "array([[3, 4, 5],\n",
       "       [6, 7, 8],\n",
       "       [0, 1, 2]])"
      ]
     },
     "execution_count": 15,
     "metadata": {},
     "output_type": "execute_result"
    }
   ],
   "source": [
    "# shuffle arr2d with axis = 0\n",
    "rng.shuffle(arr2d, axis=0)\n",
    "arr2d"
   ]
  },
  {
   "cell_type": "markdown",
   "metadata": {},
   "source": [
    "above we can see with axis=0, only the rows were interchanged."
   ]
  },
  {
   "cell_type": "code",
   "execution_count": 16,
   "metadata": {
    "scrolled": true
   },
   "outputs": [
    {
     "data": {
      "text/plain": [
       "array([[3, 4, 5],\n",
       "       [6, 7, 8],\n",
       "       [0, 1, 2]])"
      ]
     },
     "execution_count": 16,
     "metadata": {},
     "output_type": "execute_result"
    }
   ],
   "source": [
    "# Shuffle again with axis = 1\n",
    "rng.shuffle(arr2d, axis=1)\n",
    "arr2d"
   ]
  },
  {
   "cell_type": "markdown",
   "metadata": {},
   "source": [
    "above we can see with axis=1 the columns were interchanged.\n",
    "***\n",
    "**numpy.random.permutation(x)** - *Randomly permute a sequence, or return a permuted range.* \n",
    "If x is an integer, the function will randomly permute np.arange(x). If x is an array, numpy makes a copy and shuffles the elements randomly. [11]"
   ]
  },
  {
   "cell_type": "code",
   "execution_count": 17,
   "metadata": {
    "scrolled": true
   },
   "outputs": [
    {
     "data": {
      "text/plain": [
       "array([5, 7, 1, 4, 2, 6, 8, 3, 0, 9])"
      ]
     },
     "execution_count": 17,
     "metadata": {},
     "output_type": "execute_result"
    }
   ],
   "source": [
    "rng.permutation(10)"
   ]
  },
  {
   "cell_type": "markdown",
   "metadata": {},
   "source": [
    "***\n",
    "We can also input an array"
   ]
  },
  {
   "cell_type": "code",
   "execution_count": 18,
   "metadata": {
    "scrolled": true
   },
   "outputs": [
    {
     "data": {
      "text/plain": [
       "array([ 5,  1,  7, 10,  3, 12])"
      ]
     },
     "execution_count": 18,
     "metadata": {},
     "output_type": "execute_result"
    }
   ],
   "source": [
    "rng.permutation([1, 3, 5, 7, 10, 12])"
   ]
  },
  {
   "cell_type": "markdown",
   "metadata": {},
   "source": [
    "***\n",
    "We can demonstrate with an array of string values"
   ]
  },
  {
   "cell_type": "code",
   "execution_count": 19,
   "metadata": {
    "scrolled": true
   },
   "outputs": [
    {
     "data": {
      "text/plain": [
       "array(['Limerick', 'Dublin', 'Galway', 'Tipperary', 'Wicklow'],\n",
       "      dtype='<U9')"
      ]
     },
     "execution_count": 19,
     "metadata": {},
     "output_type": "execute_result"
    }
   ],
   "source": [
    "rng.permutation([\"Wicklow\", \"Dublin\", \"Galway\", \"Limerick\", \"Tipperary\"])"
   ]
  },
  {
   "cell_type": "markdown",
   "metadata": {},
   "source": [
    "***\n",
    "np.random.permutation also accepts an optional axis paramter"
   ]
  },
  {
   "cell_type": "code",
   "execution_count": 20,
   "metadata": {
    "scrolled": true
   },
   "outputs": [
    {
     "data": {
      "text/plain": [
       "array([[6, 7, 8],\n",
       "       [0, 1, 2],\n",
       "       [3, 4, 5]])"
      ]
     },
     "execution_count": 20,
     "metadata": {},
     "output_type": "execute_result"
    }
   ],
   "source": [
    "# Create a 2d arrray shuffle with default axis=0\n",
    "arr = np.arange(9).reshape((3, 3))\n",
    "rng.permutation(arr)"
   ]
  },
  {
   "cell_type": "code",
   "execution_count": 21,
   "metadata": {
    "scrolled": true
   },
   "outputs": [
    {
     "data": {
      "text/plain": [
       "array([[1, 0, 2],\n",
       "       [4, 3, 5],\n",
       "       [7, 6, 8]])"
      ]
     },
     "execution_count": 21,
     "metadata": {},
     "output_type": "execute_result"
    }
   ],
   "source": [
    "# shuffle with axis=1\n",
    "rng.permutation(arr, axis=1)"
   ]
  },
  {
   "cell_type": "markdown",
   "metadata": {},
   "source": [
    "***\n",
    "## 3. Distributions - functions\n",
    "Probability distributions are foundational to the field of statistics. A probability distribution is the mathematical function that produces the probability or likelihood, of different possible outcomes of any experiment occurring.[12] Being able to identify which probability distribution function fits your data is an important part of data analysis. Probability plots can be an effective way of identifying whether your data follows a particular probability distribution. [13] As part of this exercise I will explore five of the 35 Numpy distributions available.\n",
    "* dirichlet\n",
    "* gamma\n",
    "* geometric\n",
    "* pareto\n",
    "* vonmises\n",
    "***\n",
    "### 3.1 Dirichlet distribution\n",
    "**np.random.generator.dirichlet**(_alpha, size=none_)<br />\n",
    "alpha : sequence of floats, length k  \n",
    "size : int or tuple of ints, optional. Default = none, in which case vector length k is returned.  \n",
    "  \n",
    "The Dirichlet distribution is a family of continuous multivariate distributions with parameters on a vector x that fulfil the conditions  \n",
    "  \n",
    "$x_i>0$ and $\\sum_{i=1}^k x_i = 1$  \n",
    "  \n",
    "The probability density function $p$ of a Dirichlet-distributed random vector $X$ is proportional to  \n",
    "$$p(x) \\propto \\prod_{i=1}^{k}{x^{\\alpha_i-1}_i}$$  \n",
    "  \n",
    "where $\\alpha$ is a vector containing the positive concentration parameters.  \n",
    "The method uses the following property for computation: let $Y$ be a random vector which has components that follow a standard gamma distribution, then $X = \\frac{1}{\\sum_{i=1}^k{Y_i}} Y$ is Dirichlet-distributed. [14]\n",
    "  \n",
    "Wikidpedia defines the Dirichlet distribution as \"a multivariate generalization of the beta distribution\" and notes that Dirichlet distributions are commonly used as prior distributions in Bayesian statistics. [15]\n",
    "  \n",
    "An example use of the Dirichlet distribution is if one wanted to cut strings each of initial length 1.0 into K pieces with different lengths. Each piece has a designated average length, but some variation is permitted in the relative sizes of the pieces. The $α/α_{0}$ values specify the **mean lengths** of the cut pieces of string resulting from the distribution. The variance around this mean varies inversely with $α_{0}$.\n"
   ]
  },
  {
   "cell_type": "code",
   "execution_count": 22,
   "metadata": {
    "scrolled": true
   },
   "outputs": [
    {
     "data": {
      "text/plain": [
       "array([[0.44359582, 0.50270964, 0.57475523, 0.54366112, 0.62574617,\n",
       "        0.3122349 , 0.50486905, 0.43324166, 0.77703832, 0.49390419,\n",
       "        0.58224681, 0.53848661, 0.70841503, 0.56776571, 0.45744326,\n",
       "        0.56865974, 0.79194061, 0.65174313, 0.50241018, 0.48615506],\n",
       "       [0.31742164, 0.45387356, 0.1912665 , 0.14325403, 0.22444358,\n",
       "        0.29611825, 0.45354051, 0.44435438, 0.12973686, 0.29454157,\n",
       "        0.27163479, 0.2804533 , 0.11709315, 0.29402943, 0.43279294,\n",
       "        0.27553498, 0.19643723, 0.20603392, 0.35455473, 0.32425109],\n",
       "       [0.23898254, 0.0434168 , 0.23397827, 0.31308486, 0.14981025,\n",
       "        0.39164685, 0.04159044, 0.12240396, 0.09322482, 0.21155424,\n",
       "        0.1461184 , 0.18106008, 0.17449181, 0.13820486, 0.10976381,\n",
       "        0.15580527, 0.01162216, 0.14222295, 0.14303509, 0.18959385]])"
      ]
     },
     "execution_count": 22,
     "metadata": {},
     "output_type": "execute_result"
    }
   ],
   "source": [
    "# create dataset\n",
    "__str__ = np.random.default_rng().dirichlet((10, 5, 3), 20).transpose()\n",
    "__str__"
   ]
  },
  {
   "cell_type": "code",
   "execution_count": 23,
   "metadata": {
    "scrolled": true
   },
   "outputs": [
    {
     "data": {
      "text/plain": [
       "Text(0.5, 1.0, 'Lengths of Strings')"
      ]
     },
     "execution_count": 23,
     "metadata": {},
     "output_type": "execute_result"
    },
    {
     "data": {
      "image/png": "[encoded data removed]",
      "text/plain": [
       "<Figure size 432x288 with 1 Axes>"
      ]
     },
     "metadata": {
      "needs_background": "light"
     },
     "output_type": "display_data"
    }
   ],
   "source": [
    "# plot the dataset\n",
    "plt.barh(range(20), __str__[0], color=\"blue\")\n",
    "plt.barh(range(20), __str__[1], left=__str__[0], color=\"orange\")\n",
    "plt.barh(range(20), __str__[2], left=__str__[0]+__str__[1], color=\"red\")\n",
    "plt.title(\"Lengths of Strings\", fontsize=20)"
   ]
  },
  {
   "cell_type": "markdown",
   "metadata": {},
   "source": [
    "***\n",
    "### 3.2 Gamma Distribution\n",
    "**np.random.generator.gamma**(*shape, scale=1.0, size=None*)<br />\n",
    "shape : float or array_like of floats. Must be > 0.  \n",
    "scale : float or array_like of floats, optional. Default = 1. Must be > 0.  \n",
    "size : int or tuple of ints, optional\n",
    "  \n",
    "The probability density for the Gamma distribution is  \n",
    "$$p(x) = x^{k-1}\\frac{e^{-x/\\theta}}{\\theta^k\\Gamma(k)}$$  \n",
    "where $k$ is the shape and $\\theta$ the scale, and $\\Gamma$ is the Gamma function. [17]  \n",
    "  \n",
    "The gamma distribution is often used to model the accumulated rainfall in a resevoir."
   ]
  },
  {
   "cell_type": "code",
   "execution_count": 24,
   "metadata": {
    "scrolled": true
   },
   "outputs": [],
   "source": [
    "# create dataset from the gamma distribution\n",
    "shape, scale = 2., 2.  # mean=4, std=2*sqrt(2)\n",
    "s = np.random.default_rng().gamma(shape, scale, 1000)"
   ]
  },
  {
   "cell_type": "code",
   "execution_count": 25,
   "metadata": {
    "scrolled": true
   },
   "outputs": [
    {
     "data": {
      "image/png": "[encoded data removed]",
      "text/plain": [
       "<Figure size 432x288 with 1 Axes>"
      ]
     },
     "metadata": {
      "needs_background": "light"
     },
     "output_type": "display_data"
    }
   ],
   "source": [
    "# plot a histogram of data along with probability density function\n",
    "# https://docs.scipy.org/doc/scipy/reference/generated/scipy.stats.gamma.html#scipy.stats.gamma\n",
    "import scipy.special as sps  \n",
    "count, bins, ignored = plt.hist(s, 50, density=True, color=\"blue\")\n",
    "y = bins**(shape-1)*(np.exp(-bins/scale) /  \n",
    "                     (sps.gamma(shape)*scale**shape))\n",
    "plt.plot(bins, y, linewidth=2, color='r')  \n",
    "plt.show()"
   ]
  },
  {
   "cell_type": "markdown",
   "metadata": {},
   "source": [
    "***\n",
    "### 3.3 Geometric Distribution\n",
    "**np.random.generator.geometric**(*p, size=None*)<br />\n",
    "p : Float or array_like of floats. The probability of success of an individual trial.  \n",
    "size : int or tuple of ints, optional.  \n",
    "  \n",
    "\n",
    "A Bernoulli trial (or binomial trial) is a random experiment with two possible outcomes \"success\" and \"failure\". The probability of success is the same every time the experiment is conducted. An example of this would flipping a coin or rolling a dice with 6 being a success and all other numbers being failure.  \n",
    "  \n",
    "The probability mass function of the geometric distribution is expressed as follows[17]  \n",
    "  \n",
    "$$f(k) = (1 - p)^{k - 1} p$$"
   ]
  },
  {
   "cell_type": "code",
   "execution_count": 26,
   "metadata": {
    "scrolled": true
   },
   "outputs": [],
   "source": [
    "# Draw 10000 values from the geometric distribution, probability of success = 1 in 4 or 0.25\n",
    "z = np.random.default_rng().geometric(p=0.25, size=10000)"
   ]
  },
  {
   "cell_type": "code",
   "execution_count": 27,
   "metadata": {
    "scrolled": false
   },
   "outputs": [
    {
     "data": {
      "text/plain": [
       "0.256"
      ]
     },
     "execution_count": 27,
     "metadata": {},
     "output_type": "execute_result"
    }
   ],
   "source": [
    "# How many trials succeeded after a single run?\n",
    "(z == 1).sum() / 10000"
   ]
  },
  {
   "cell_type": "markdown",
   "metadata": {},
   "source": [
    "***\n",
    "### 3.4 Pareto Distribution\n",
    "**np.random.generator.pareto**(*a, size=None*)<br />\n",
    "\n",
    "a : float or array_like of floats - Shape of the distribution. Must be > 0.  \n",
    "size : int or tuple of ints, optional\n",
    "\n",
    "Named after Vilfredo Pareto, who originally applied this distribution to describe the allocation of wealth in society. Sometimes referred to as the 80/20 rule it fits the trend that a small portion of society holds are large portion of wealth. It transpires that the Pareto function that 80-20 distribution fits many natural phenomena. [18] \n",
    "  \n",
    "The probability density for the Pareto distribution is [19]\n",
    "  \n",
    "$$p(x) = \\frac{am^a}{x^{a+1}}$$  \n",
    "  \n",
    "where $a$ is the shape and $m$ the scale."
   ]
  },
  {
   "cell_type": "code",
   "execution_count": 28,
   "metadata": {},
   "outputs": [],
   "source": [
    "# create dataset from the distribution\n",
    "a, m = 3., 2.  # shape and mode\n",
    "p = (np.random.default_rng().pareto(a, 1000) + 1) * m"
   ]
  },
  {
   "cell_type": "code",
   "execution_count": 29,
   "metadata": {},
   "outputs": [
    {
     "data": {
      "image/png": "[encoded data removed]",
      "text/plain": [
       "<Figure size 432x288 with 1 Axes>"
      ]
     },
     "metadata": {
      "needs_background": "light"
     },
     "output_type": "display_data"
    }
   ],
   "source": [
    "# Display histogram of samples with pdf displayed\n",
    "count, bins, _ = plt.hist(p, 100, density=True)\n",
    "fit = a*m**a / bins**(a+1)\n",
    "plt.plot(bins, max(count)*fit/max(fit), linewidth=2, color='r')\n",
    "plt.show()"
   ]
  },
  {
   "cell_type": "markdown",
   "metadata": {},
   "source": [
    "***\n",
    "### 3.5 Vonmises Distribution\n",
    "**np.random.generator.vonmises**(*mu, kappa, size=None*)<br />\n",
    "\n",
    "mu : float or array_like of floats. Mode - number which distribution is centred  \n",
    "\n",
    "kappa : float or array_like of floats. Dispersion of the distribution, must be >=0.  \n",
    "\n",
    "size : int or tuple of ints, optional. Default=0  \n",
    "  \n",
    "The probability density function for the von Mises distribution is described as [20]  \n",
    "  \n",
    "$$p(x) = \\frac{e^{\\kappa cos(x-\\mu)}}{2\\pi I_0(\\kappa)}$$  \n",
    "where $\\mu$ is the mode and $\\kappa$ the dispersion, and $I_0(\\kappa)$ is the modified Bessel function of order 0. \n",
    "  \n",
    "The von Mises distribution is a continuous probability distribution on the unit circle. It can be thought of as the circular analogue of the normal distribution. [21]  "
   ]
  },
  {
   "cell_type": "code",
   "execution_count": 30,
   "metadata": {},
   "outputs": [],
   "source": [
    "# create a dataset from the von mises distribution\n",
    "mu, kappa = 0.0, 4.0 # mean and dispersion\n",
    "v = np.random.default_rng().vonmises(mu, kappa, 1000)"
   ]
  },
  {
   "cell_type": "code",
   "execution_count": 31,
   "metadata": {},
   "outputs": [
    {
     "data": {
      "image/png": "[encoded data removed]",
      "text/plain": [
       "<Figure size 432x288 with 1 Axes>"
      ]
     },
     "metadata": {
      "needs_background": "light"
     },
     "output_type": "display_data"
    }
   ],
   "source": [
    "# Plot the histogram of the dataset and display the pdf\n",
    "from scipy.special import i0  \n",
    "plt.hist(v, 50, density=True, color=\"blue\")\n",
    "x = np.linspace(-np.pi, np.pi, num=51)\n",
    "y = np.exp(kappa*np.cos(x-mu))/(2*np.pi*i0(kappa))  \n",
    "plt.plot(x, y, linewidth=2, color='r')  \n",
    "plt.show()"
   ]
  },
  {
   "cell_type": "markdown",
   "metadata": {},
   "source": [
    "***\n",
    "## 4. Seeds\n",
    "The method numpy random used to generate pseudo random number has changed from the current version 1.19 to previous version. v1.19 uses a \"generator\" with bits provided by Permuted Congruential Generator 64 bit, or PCG64, whereas previous versions had a generator now called RandomState which used the Mersenne Twister (MT19937) method of providing bits. According to the NumPy official documentation PCG64 *\"has better statistical properties\"* than MT19937. [22] <br /> \n",
    "PCG-64 is a 128-bit implementation of O’Neill’s permutation congruential generator. [23] PCG has several advantages over MT including much more difficult to predict; multiple streams; far superior speed performance; uses much less space, and the code is much less complex than Mersenne Twister. [24]  \n",
    "As per the previous versions it is possible to set the Generator (Seed) thus making the random number generator repeatable. "
   ]
  },
  {
   "cell_type": "code",
   "execution_count": 32,
   "metadata": {},
   "outputs": [
    {
     "data": {
      "text/plain": [
       "array([15,  8, 16,  9,  8, 16, 14, 15, 19, 10])"
      ]
     },
     "execution_count": 32,
     "metadata": {},
     "output_type": "execute_result"
    }
   ],
   "source": [
    "# set the generator\n",
    "from numpy.random import default_rng\n",
    "rg = default_rng(12345)\n",
    "# create an array of 10 integers between 5 and 20 (exclusive)\n",
    "rg.integers(5,20, size=10)"
   ]
  },
  {
   "cell_type": "code",
   "execution_count": 33,
   "metadata": {},
   "outputs": [
    {
     "data": {
      "text/plain": [
       "array([17,  9, 13, 13,  8,  7,  8, 15, 14, 19])"
      ]
     },
     "execution_count": 33,
     "metadata": {},
     "output_type": "execute_result"
    }
   ],
   "source": [
    "# Reinstate the default generator to create an array with the same parameters as before\n",
    "rng = np.random.default_rng()\n",
    "rg.integers(5,20, size=10)"
   ]
  },
  {
   "cell_type": "markdown",
   "metadata": {},
   "source": [
    "a different array is created from before\n",
    "***\n",
    "Next show that the array is repeatable"
   ]
  },
  {
   "cell_type": "code",
   "execution_count": 34,
   "metadata": {},
   "outputs": [
    {
     "data": {
      "text/plain": [
       "array([15,  8, 16,  9,  8, 16, 14, 15, 19, 10])"
      ]
     },
     "execution_count": 34,
     "metadata": {},
     "output_type": "execute_result"
    }
   ],
   "source": [
    "# set the generator as before\n",
    "rg = default_rng(12345)\n",
    "rg.integers(5,20, size=10)"
   ]
  },
  {
   "cell_type": "markdown",
   "metadata": {},
   "source": [
    "## 5. Conclusion\n",
    "\n",
    "In this notebook I explored many elements of the numpy.random routine in Python. NumPy is an extremly powerful pacakge widely used in the field of data analytics and data science most notable it is extremely useful for performing many mathematical operations on array and matrix data structures. This assignment helped to develop my understanding random number generation and why it is important and probability distributions including plotting and visualisation techniques. "
   ]
  },
  {
   "cell_type": "markdown",
   "metadata": {},
   "source": [
    "### References\n",
    "[1] What is Numpy; https://numpy.org/doc/stable/user/whatisnumpy.html#whatisnumpy  \n",
    "[2] NumPy: the absolute basics for beginners; https://numpy.org/doc/stable/user/absolute_beginners.html#generating-random-numbers  \n",
    "[3] W3schools.com; https://www.w3schools.com/python/numpy_random.asp  \n",
    "[4] random sampling (numpy.random); https://numpy.org/doc/stable/reference/random/index.html  \n",
    "[5] Numpy Random Generator; https://numpy.org/doc/stable/reference/random/generator.html  \n",
    "[6] np.random.integers; https://numpy.org/doc/stable/reference/random/generated/numpy.random.Generator.integers.html  \n",
    "[7] np.random.random; https://numpy.org/doc/stable/reference/random/generated/numpy.random.Generator.random.html  \n",
    "[8] np.random.choice; https://numpy.org/doc/stable/reference/random/generated/numpy.random.Generator.choice.html  \n",
    "[9] np.random.bytes; https://numpy.org/doc/stable/reference/random/generated/numpy.random.Generator.bytes.html  \n",
    "[10] np.random.shuffle; https://numpy.org/doc/stable/reference/random/generated/numpy.random.Generator.shuffle.html  \n",
    "[11] np.random.permutation; https://numpy.org/doc/stable/reference/random/generated/numpy.random.Generator.permutation.html  \n",
    "[12] Probability distribution; https://en.wikipedia.org/wiki/Probability_distribution  \n",
    "[13] How to Identify the Distribution of Your Data; https://statisticsbyjim.com/hypothesis-testing/identify-distribution-data  \n",
    "[14] np.random.Dirichlet; https://numpy.org/doc/stable/reference/random/generated/numpy.random.Generator.dirichlet.html  \n",
    "[15] Dirichlet distribution - Wiki; https://en.wikipedia.org/wiki/Dirichlet_distribution  \n",
    "[16] np.random.Gamma; https://numpy.org/doc/stable/reference/random/generated/numpy.random.Generator.gamma.html  \n",
    "[17] np.random.Geometric; https://numpy.org/doc/stable/reference/random/generated/numpy.random.Generator.geometric.html<br />\n",
    "[18] Pareto distribution - Wiki; https://en.wikipedia.org/wiki/Pareto_distribution  \n",
    "[19] np.random.Pareto; https://numpy.org/doc/stable/reference/random/generated/numpy.random.Generator.pareto.html<br /> [20] np.random.vonMises; https://numpy.org/doc/stable/reference/random/generated/numpy.random.Generator.vonmises.html<br />\n",
    "[21] von Mises Distribution - Wiki; https://en.wikipedia.org/wiki/Von_Mises_distribution<br />\n",
    "[22] Random sampling (numpy.random); https://numpy.org/doc/stable/reference/random/index.html<br />\n",
    "[23] Permuted Congruential Generator (64-bit, PCG64); https://numpy.org/doc/stable/reference/random/bit_generators/pcg64.html <br />\n",
    "[24] PCG, A Family of Better Random Number Generators; https://www.pcg-random.org/ <br />"
   ]
  }
 ],
 "metadata": {
  "kernelspec": {
   "display_name": "Python 3",
   "language": "python",
   "name": "python3"
  },
  "language_info": {
   "codemirror_mode": {
    "name": "ipython",
    "version": 3
   },
   "file_extension": ".py",
   "mimetype": "text/x-python",
   "name": "python",
   "nbconvert_exporter": "python",
   "pygments_lexer": "ipython3",
   "version": "3.8.5"
  }
 },
 "nbformat": 4,
 "nbformat_minor": 4
}
