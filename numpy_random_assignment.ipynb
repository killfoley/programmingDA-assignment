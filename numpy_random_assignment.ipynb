{
 "cells": [
  {
   "cell_type": "markdown",
   "metadata": {},
   "source": [
    "# Assignment exploring numpy.random package in python\n",
    "\n",
    "## Problem statement\n",
    "1. Explain the overall purpose of the package.\n",
    "2. Explain the use of the “Simple random data” and “Permutations” functions.\n",
    "3. Explain the use and purpose of at least five “Distributions” functions.\n",
    "4. Explain the use of seeds in generating pseudorandom numbers.\n",
    "\n",
    "## Numpy explained\n",
    "NumPy (Numerical Python) is an open source Python library considered as the fundamental package for scientific computing in Python. It is the universal standard Python library for working with numerical data in almost every field of science and engineering. The NumPy API is used extensively in many other Python data science packages such as Pandas, SciPy, Matplotlib, scikit-learn, scikit-image and many other data science and scientific Python packages. The NumPy package contains multidimensional array and matrix data structures, and enables fast operations on arrays, including mathematical, logical, shape manipulation, sorting, basic linear algebra, statistical operations and random simulation (and much more). [1,2]\n",
    "\n",
    "## 1. Numpy.random explained\n",
    "#### What is a random number?\n",
    "\"*Random - made, done, or happening without method or conscious decision*\" (definition - Oxford English Dictionary). A Random number does NOT mean it has to be a different number every time. Random means something that can not be predicted logically. [3]  \n",
    "  \n",
    "The ability to generate random numbers is an important part of the configuration and evaluation of many numerical and machine learning algorithms. From shuffling datasets randomly or splitting data into random sub-sets, being able to generate random numbers (actually, repeatable pseudo-random numbers) is an essential part of data science. [2]\n",
    "#### How it works  \n",
    "Numpy’s random number function produces pseudo random numbers using combinations of a BitGenerator to create sequences and a Generator to use those sequences to sample from different statistical distributions:\n",
    "  \n",
    "* **BitGenerators:** Objects that generate random numbers. These are typically unsigned integer words filled with sequences of either 32 or 64 random bits.\n",
    "  \n",
    "* **Generators:** Objects that transform sequences of random bits from a BitGenerator into sequences of numbers that follow a specific probability distribution (such as uniform, Normal or Binomial) within a specified interval. [4]"
   ]
  },
  {
   "cell_type": "code",
   "execution_count": 1,
   "metadata": {},
   "outputs": [
    {
     "data": {
      "text/plain": [
       "'1.19.2'"
      ]
     },
     "execution_count": 1,
     "metadata": {},
     "output_type": "execute_result"
    }
   ],
   "source": [
    "# First import numpy package. \n",
    "import numpy as np\n",
    "# Next check the version is most up to date\n",
    "np.version.version"
   ]
  },
  {
   "cell_type": "code",
   "execution_count": 3,
   "metadata": {},
   "outputs": [],
   "source": [
    "# Next we import matplotlib and seaborn for data visualtion and charts\n",
    "import matplotlib.pyplot as plt \n",
    "import seaborn as sns\n",
    "# call \"magic function\" for matplotlib to show charts in jupyter notebook\n",
    "# Ref - https://stackoverflow.com/questions/43027980/purpose-of-matplotlib-inline\n",
    "%matplotlib inline"
   ]
  },
  {
   "cell_type": "code",
   "execution_count": null,
   "metadata": {},
   "outputs": [],
   "source": []
  },
  {
   "cell_type": "code",
   "execution_count": null,
   "metadata": {},
   "outputs": [],
   "source": []
  },
  {
   "cell_type": "code",
   "execution_count": null,
   "metadata": {},
   "outputs": [],
   "source": []
  },
  {
   "cell_type": "markdown",
   "metadata": {},
   "source": [
    "### References\n",
    "[1] https://numpy.org/doc/stable/user/whatisnumpy.html#whatisnumpy  \n",
    "[2] https://numpy.org/doc/stable/user/absolute_beginners.html#generating-random-numbers  \n",
    "[3] https://www.w3schools.com/python/numpy_random.asp  \n",
    "[4] https://numpy.org/doc/stable/reference/random/index.html"
   ]
  }
 ],
 "metadata": {
  "kernelspec": {
   "display_name": "Python 3",
   "language": "python",
   "name": "python3"
  },
  "language_info": {
   "codemirror_mode": {
    "name": "ipython",
    "version": 3
   },
   "file_extension": ".py",
   "mimetype": "text/x-python",
   "name": "python",
   "nbconvert_exporter": "python",
   "pygments_lexer": "ipython3",
   "version": "3.8.5"
  }
 },
 "nbformat": 4,
 "nbformat_minor": 4
}
