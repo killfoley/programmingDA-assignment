{
 "cells": [
  {
   "cell_type": "markdown",
   "metadata": {},
   "source": [
    "![Numpy Logo](Numpy_logo.jpg)\n",
    "\n",
    "# Assignment exploring numpy.random package in python\n",
    "\n",
    "## Problem statement\n",
    "1. Explain the overall purpose of the package.\n",
    "2. Explain the use of the “Simple random data” and “Permutations” functions.\n",
    "3. Explain the use and purpose of at least five “Distributions” functions.\n",
    "4. Explain the use of seeds in generating pseudorandom numbers.\n",
    "\n",
    "## Numpy explained\n",
    "NumPy (Numerical Python) is an open source Python library considered as the fundamental package for scientific computing in Python. It is the universal standard Python library for working with numerical data in almost every field of science and engineering. The NumPy API is used extensively in many other Python data science packages such as Pandas, SciPy, Matplotlib, scikit-learn, scikit-image and many other data science and scientific Python packages. The NumPy package contains multidimensional array and matrix data structures, and enables fast operations on arrays, including mathematical, logical, shape manipulation, sorting, basic linear algebra, statistical operations and random simulation (and much more). [1,2]\n",
    "\n",
    "## 1. Numpy.random explained\n",
    "#### What is a random number?\n",
    "\"*Random - made, done, or happening without method or conscious decision*\" (definition - Oxford English Dictionary). A Random number does NOT mean it has to be a different number every time. Random means something that can not be predicted logically. [3]  \n",
    "  \n",
    "The ability to generate random numbers is an important part of the configuration and evaluation of many numerical and machine learning algorithms. From shuffling datasets randomly or splitting data into random sub-sets, being able to generate random numbers (actually, repeatable pseudo-random numbers) is an essential part of data science. [2]\n",
    "#### How it works  \n",
    "Numpy’s random number function produces pseudo random numbers using combinations of a BitGenerator to create sequences and a Generator to use those sequences to sample from different statistical distributions:\n",
    "  \n",
    "* **BitGenerators:** Objects that generate random numbers. These are typically unsigned integer words filled with sequences of either 32 or 64 random bits.\n",
    "  \n",
    "* **Generators:** Objects that transform sequences of random bits from a BitGenerator into sequences of numbers that follow a specific probability distribution (such as uniform, Normal or Binomial) within a specified interval. [4]\n",
    "  \n",
    "For the purpose of this investigation the Numpy random module can be split into four parts\n",
    "* Simple Random Data\n",
    "* Permutations\n",
    "* Distributions\n",
    "* Random Generator\n",
    "***\n",
    "##### Code"
   ]
  },
  {
   "cell_type": "code",
   "execution_count": 1,
   "metadata": {},
   "outputs": [
    {
     "data": {
      "text/plain": [
       "'1.19.2'"
      ]
     },
     "execution_count": 1,
     "metadata": {},
     "output_type": "execute_result"
    }
   ],
   "source": [
    "# First import numpy package. \n",
    "import numpy as np\n",
    "# Next check the version is V 1.19\n",
    "np.version.version"
   ]
  },
  {
   "cell_type": "code",
   "execution_count": 2,
   "metadata": {},
   "outputs": [],
   "source": [
    "# Next we import matplotlib and seaborn for data visualtion and charts\n",
    "import matplotlib.pyplot as plt \n",
    "import seaborn as sns\n",
    "# call \"magic function\" for matplotlib to show charts in jupyter notebook\n",
    "# Ref - https://stackoverflow.com/questions/43027980/purpose-of-matplotlib-inline\n",
    "%matplotlib inline"
   ]
  },
  {
   "cell_type": "markdown",
   "metadata": {},
   "source": [
    "## 2. \"Simple random data\" and \"Permutations\" functions explained\n",
    "Referencing the Numpy random documentation [5] the following are the available **simple random data** functions\n",
    "\n",
    "| Numpy Function | Description |\n",
    "|:---------------|:------------|\n",
    "| **integers**(low[, high, size, dtype, endpoint]) | Return random integers from low (inclusive) to high (exclusive), or if endpoint=True, low (inclusive) to high (inclusive)|\n",
    "| **random**([size, dtype, out]) | Return random floats in the half-open interval [0.0, 1.0]|\n",
    "| **choice**(a[, size, replace, p, axis, shuffle]) | Generates a random sample from a given 1-D array|\n",
    "| **bytes**(length) | Return random bytes |  \n",
    "  \n",
    "***\n",
    "\n",
    "#### _Integers( )_ function\n",
    "From the table above Return random integers from low (inclusive) to high (exclusive)"
   ]
  },
  {
   "cell_type": "code",
   "execution_count": 3,
   "metadata": {},
   "outputs": [
    {
     "data": {
      "text/plain": [
       "array([0, 1, 1, 1, 0, 0, 0, 0, 1, 0])"
      ]
     },
     "execution_count": 3,
     "metadata": {},
     "output_type": "execute_result"
    }
   ],
   "source": [
    "# start using the random number generator (rng) integers\n",
    "rng = np.random.default_rng()\n",
    "rng.integers(2, size=10)"
   ]
  },
  {
   "cell_type": "markdown",
   "metadata": {},
   "source": [
    "From consulting the documentation it is noted that the above function produces a 1-D array with 10 entries returning random numbers between 0 (inclusive) and 2 (exclusive). [6]"
   ]
  },
  {
   "cell_type": "code",
   "execution_count": 4,
   "metadata": {},
   "outputs": [
    {
     "data": {
      "text/plain": [
       "array([[6, 7, 8, 5],\n",
       "       [7, 7, 6, 8]])"
      ]
     },
     "execution_count": 4,
     "metadata": {},
     "output_type": "execute_result"
    }
   ],
   "source": [
    "rng.integers(3,10, size=(2,4)) # integers between 3 (incl) and 10 (excl) size 2 rows and 4 columns"
   ]
  },
  {
   "cell_type": "markdown",
   "metadata": {},
   "source": [
    "***\n",
    "#### _Random( )_ function\n",
    "From the description in the table above \"Return random floats in the half-open interval [0.0, 1.0]\""
   ]
  },
  {
   "cell_type": "code",
   "execution_count": 5,
   "metadata": {},
   "outputs": [
    {
     "data": {
      "text/plain": [
       "0.3790530837506113"
      ]
     },
     "execution_count": 5,
     "metadata": {},
     "output_type": "execute_result"
    }
   ],
   "source": [
    "# Use random function to generate a random number between 0 (incl) and 1 (excl)\n",
    "rng = np.random.default_rng()\n",
    "rng.random()"
   ]
  },
  {
   "cell_type": "code",
   "execution_count": 6,
   "metadata": {},
   "outputs": [
    {
     "data": {
      "text/plain": [
       "array([[0.85335229, 0.91076116],\n",
       "       [0.66382549, 0.37755545],\n",
       "       [0.47400118, 0.33570134]])"
      ]
     },
     "execution_count": 6,
     "metadata": {},
     "output_type": "execute_result"
    }
   ],
   "source": [
    "# Create a 3 x 2 array of random floating point numbers\n",
    "rng = np.random.default_rng()\n",
    "rng.random((3,2)) # note double brackets required"
   ]
  },
  {
   "cell_type": "markdown",
   "metadata": {},
   "source": [
    "***\n",
    "#### _Choice( )_ function\n",
    "Generates a random sample from a given 1-D array\n",
    "Parameters\n",
    "a: {array_like, int}\n",
    "   If an ndarray, a random sample is generated from its elements. If an int, the random sample is generated from np.arange(a).\n",
    "\n",
    "size : Output shape {int, tuple[int]}, optional\n",
    "\n",
    "replace : bool, optional - Whether the sample is with or without replacement\n",
    "\n",
    "p : 1-D array_like, optional - the probabilities associated with each entry in a. If not given the sample assumes a uniform distribution over all entries in a.\n",
    "\n",
    "axis : int, optional The axis along which the selection is performed. The default, 0, selects by row.\n",
    "\n",
    "shuffle : bool, optional - whether the sample is shuffled when sampling without replacement. Default is True, False provides a speedup. "
   ]
  },
  {
   "cell_type": "code",
   "execution_count": 7,
   "metadata": {},
   "outputs": [
    {
     "data": {
      "text/plain": [
       "array([0, 5, 4, 0, 4, 0])"
      ]
     },
     "execution_count": 7,
     "metadata": {},
     "output_type": "execute_result"
    }
   ],
   "source": [
    "rng = np.random.default_rng()\n",
    "# Generate a uniform random sample from np.arange(6) of size 6\n",
    "rng.choice(6,6)"
   ]
  },
  {
   "cell_type": "code",
   "execution_count": 8,
   "metadata": {},
   "outputs": [
    {
     "data": {
      "text/plain": [
       "array([0, 1, 2, 3, 4])"
      ]
     },
     "execution_count": 8,
     "metadata": {},
     "output_type": "execute_result"
    }
   ],
   "source": [
    "# Generate a non-uniform random sample from np.arange(5) of size 10 without replacement (repetition):\n",
    "\n",
    "rng.choice(5, 5, replace=False, p=[0.1, 0.2, 0.2, 0.3, 0.2])"
   ]
  },
  {
   "cell_type": "markdown",
   "metadata": {},
   "source": [
    "***\n",
    "The function can also be used with any array not just integers. e.g."
   ]
  },
  {
   "cell_type": "code",
   "execution_count": 9,
   "metadata": {},
   "outputs": [
    {
     "data": {
      "text/plain": [
       "array(['Galway', 'Galway', 'Dublin', 'Dublin', 'Dublin'], dtype='<U8')"
      ]
     },
     "execution_count": 9,
     "metadata": {},
     "output_type": "execute_result"
    }
   ],
   "source": [
    "counties = ['Wicklow', 'Dublin', 'Cork', 'Galway', 'Limerick']\n",
    "rng.choice(counties, 5, replace=True)"
   ]
  },
  {
   "cell_type": "markdown",
   "metadata": {},
   "source": [
    "***\n",
    "#### _bytes( )_ function\n",
    "Generates random bytes\n",
    "Parameters: \n",
    "length : int - Number of random bytes."
   ]
  },
  {
   "cell_type": "code",
   "execution_count": 10,
   "metadata": {},
   "outputs": [
    {
     "data": {
      "text/plain": [
       "b'`k\\xcaNK\\xbe\\xe3\\xa6\\xeb\\x04\\xd4\\xc6'"
      ]
     },
     "execution_count": 10,
     "metadata": {},
     "output_type": "execute_result"
    }
   ],
   "source": [
    "rng.bytes(12)"
   ]
  },
  {
   "cell_type": "markdown",
   "metadata": {},
   "source": [
    "***"
   ]
  },
  {
   "cell_type": "markdown",
   "metadata": {},
   "source": [
    "### References\n",
    "[1] https://numpy.org/doc/stable/user/whatisnumpy.html#whatisnumpy  \n",
    "[2] https://numpy.org/doc/stable/user/absolute_beginners.html#generating-random-numbers  \n",
    "[3] https://www.w3schools.com/python/numpy_random.asp  \n",
    "[4] https://numpy.org/doc/stable/reference/random/index.html  \n",
    "[5] Numpy Random Generator; https://numpy.org/doc/stable/reference/random/generator.html  \n",
    "[6] np.random.integers; https://numpy.org/doc/stable/reference/random/generated/numpy.random.Generator.integers.html#numpy.random.Generator.integers  \n",
    "[7] np.random.random; https://numpy.org/doc/stable/reference/random/generated/numpy.random.Generator.random.html#numpy.random.Generator.random\n",
    "[8] np.random.choice(); https://numpy.org/doc/stable/reference/random/generated/numpy.random.Generator.choice.html#numpy.random.Generator.choice  \n",
    "[9] np.random.bytes(); https://numpy.org/doc/stable/reference/random/generated/numpy.random.Generator.bytes.html#numpy.random.Generator.bytes"
   ]
  }
 ],
 "metadata": {
  "kernelspec": {
   "display_name": "Python 3",
   "language": "python",
   "name": "python3"
  },
  "language_info": {
   "codemirror_mode": {
    "name": "ipython",
    "version": 3
   },
   "file_extension": ".py",
   "mimetype": "text/x-python",
   "name": "python",
   "nbconvert_exporter": "python",
   "pygments_lexer": "ipython3",
   "version": "3.8.5"
  }
 },
 "nbformat": 4,
 "nbformat_minor": 4
}
